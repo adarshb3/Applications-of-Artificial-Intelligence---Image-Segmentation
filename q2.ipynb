{
  "nbformat": 4,
  "nbformat_minor": 0,
  "metadata": {
    "colab": {
      "provenance": [],
      "gpuType": "V100"
    },
    "kernelspec": {
      "name": "python3",
      "display_name": "Python 3"
    },
    "language_info": {
      "name": "python"
    },
    "accelerator": "GPU"
  },
  "cells": [
    {
      "cell_type": "markdown",
      "source": [
        "Group 13 | Aditya Sharma, Adarsh Balan, Thaneshwar Prasad Sahu, Muhammad Ashraf Hussain, Prathyusha Thatipelli\n",
        "Part B | Question 3"
      ],
      "metadata": {
        "id": "JPWyEKEPe88D"
      }
    },
    {
      "cell_type": "code",
      "execution_count": 1,
      "metadata": {
        "colab": {
          "base_uri": "https://localhost:8080/"
        },
        "id": "FGiYigeDTxEp",
        "outputId": "cae7363a-b537-4211-85cb-9a645ccc7a45"
      },
      "outputs": [
        {
          "output_type": "stream",
          "name": "stdout",
          "text": [
            "Mounted at /content/drive\n"
          ]
        }
      ],
      "source": [
        "# Connecting to Google Collab\n",
        "from google.colab import drive\n",
        "drive.mount('/content/drive')"
      ]
    },
    {
      "cell_type": "code",
      "source": [
        "# Importing Libraries\n",
        "import torch\n",
        "import torchvision\n",
        "import torchvision.transforms as transforms\n",
        "from torchvision import models\n",
        "from torch.utils.data import DataLoader\n",
        "from sklearn.metrics import precision_score, recall_score, classification_report"
      ],
      "metadata": {
        "id": "tkkgkI1lUEv3"
      },
      "execution_count": 2,
      "outputs": []
    },
    {
      "cell_type": "code",
      "source": [
        "# Checking if GPU is available\n",
        "device = torch.device(\"cuda:0\" if torch.cuda.is_available() else \"cpu\")"
      ],
      "metadata": {
        "id": "ra-gPo-qUEyk"
      },
      "execution_count": 3,
      "outputs": []
    },
    {
      "cell_type": "code",
      "source": [
        "# Data preprocessing\n",
        "transform = transforms.Compose([\n",
        "    transforms.Resize((224, 224)),\n",
        "    transforms.ToTensor(),\n",
        "    transforms.Normalize(mean=[0.485, 0.456, 0.406], std=[0.229, 0.224, 0.225])\n",
        "])"
      ],
      "metadata": {
        "id": "P5Rqkf79UE1Q"
      },
      "execution_count": 4,
      "outputs": []
    },
    {
      "cell_type": "code",
      "source": [
        "# Loading the dataset\n",
        "train_dataset = torchvision.datasets.ImageFolder(root='/content/drive/MyDrive/AAI Group Assignment/train', transform=transform)\n",
        "test_dataset = torchvision.datasets.ImageFolder(root='/content/drive/MyDrive/AAI Group Assignment/test', transform=transform)"
      ],
      "metadata": {
        "id": "oGmCRv-vUE3p"
      },
      "execution_count": 5,
      "outputs": []
    },
    {
      "cell_type": "code",
      "source": [
        "train_loader = DataLoader(train_dataset, batch_size=32, shuffle=True)\n",
        "test_loader = DataLoader(test_dataset, batch_size=32, shuffle=False)"
      ],
      "metadata": {
        "id": "FCUh_0SuUE6Y"
      },
      "execution_count": 6,
      "outputs": []
    },
    {
      "cell_type": "code",
      "source": [
        "# Loading pre-trained VGG19 model and modify it\n",
        "model = models.vgg19(pretrained=True)\n",
        "num_ftrs = model.classifier[6].in_features\n",
        "model.classifier[6] = torch.nn.Linear(num_ftrs, 15)\n",
        "model.to(device)"
      ],
      "metadata": {
        "colab": {
          "base_uri": "https://localhost:8080/"
        },
        "id": "-bfjcqQBUek0",
        "outputId": "1e64e88e-99cb-4a61-a6fa-d37ab136d273"
      },
      "execution_count": 7,
      "outputs": [
        {
          "output_type": "stream",
          "name": "stderr",
          "text": [
            "/usr/local/lib/python3.10/dist-packages/torchvision/models/_utils.py:208: UserWarning: The parameter 'pretrained' is deprecated since 0.13 and may be removed in the future, please use 'weights' instead.\n",
            "  warnings.warn(\n",
            "/usr/local/lib/python3.10/dist-packages/torchvision/models/_utils.py:223: UserWarning: Arguments other than a weight enum or `None` for 'weights' are deprecated since 0.13 and may be removed in the future. The current behavior is equivalent to passing `weights=VGG19_Weights.IMAGENET1K_V1`. You can also use `weights=VGG19_Weights.DEFAULT` to get the most up-to-date weights.\n",
            "  warnings.warn(msg)\n",
            "Downloading: \"https://download.pytorch.org/models/vgg19-dcbb9e9d.pth\" to /root/.cache/torch/hub/checkpoints/vgg19-dcbb9e9d.pth\n",
            "100%|██████████| 548M/548M [00:04<00:00, 119MB/s]\n"
          ]
        },
        {
          "output_type": "execute_result",
          "data": {
            "text/plain": [
              "VGG(\n",
              "  (features): Sequential(\n",
              "    (0): Conv2d(3, 64, kernel_size=(3, 3), stride=(1, 1), padding=(1, 1))\n",
              "    (1): ReLU(inplace=True)\n",
              "    (2): Conv2d(64, 64, kernel_size=(3, 3), stride=(1, 1), padding=(1, 1))\n",
              "    (3): ReLU(inplace=True)\n",
              "    (4): MaxPool2d(kernel_size=2, stride=2, padding=0, dilation=1, ceil_mode=False)\n",
              "    (5): Conv2d(64, 128, kernel_size=(3, 3), stride=(1, 1), padding=(1, 1))\n",
              "    (6): ReLU(inplace=True)\n",
              "    (7): Conv2d(128, 128, kernel_size=(3, 3), stride=(1, 1), padding=(1, 1))\n",
              "    (8): ReLU(inplace=True)\n",
              "    (9): MaxPool2d(kernel_size=2, stride=2, padding=0, dilation=1, ceil_mode=False)\n",
              "    (10): Conv2d(128, 256, kernel_size=(3, 3), stride=(1, 1), padding=(1, 1))\n",
              "    (11): ReLU(inplace=True)\n",
              "    (12): Conv2d(256, 256, kernel_size=(3, 3), stride=(1, 1), padding=(1, 1))\n",
              "    (13): ReLU(inplace=True)\n",
              "    (14): Conv2d(256, 256, kernel_size=(3, 3), stride=(1, 1), padding=(1, 1))\n",
              "    (15): ReLU(inplace=True)\n",
              "    (16): Conv2d(256, 256, kernel_size=(3, 3), stride=(1, 1), padding=(1, 1))\n",
              "    (17): ReLU(inplace=True)\n",
              "    (18): MaxPool2d(kernel_size=2, stride=2, padding=0, dilation=1, ceil_mode=False)\n",
              "    (19): Conv2d(256, 512, kernel_size=(3, 3), stride=(1, 1), padding=(1, 1))\n",
              "    (20): ReLU(inplace=True)\n",
              "    (21): Conv2d(512, 512, kernel_size=(3, 3), stride=(1, 1), padding=(1, 1))\n",
              "    (22): ReLU(inplace=True)\n",
              "    (23): Conv2d(512, 512, kernel_size=(3, 3), stride=(1, 1), padding=(1, 1))\n",
              "    (24): ReLU(inplace=True)\n",
              "    (25): Conv2d(512, 512, kernel_size=(3, 3), stride=(1, 1), padding=(1, 1))\n",
              "    (26): ReLU(inplace=True)\n",
              "    (27): MaxPool2d(kernel_size=2, stride=2, padding=0, dilation=1, ceil_mode=False)\n",
              "    (28): Conv2d(512, 512, kernel_size=(3, 3), stride=(1, 1), padding=(1, 1))\n",
              "    (29): ReLU(inplace=True)\n",
              "    (30): Conv2d(512, 512, kernel_size=(3, 3), stride=(1, 1), padding=(1, 1))\n",
              "    (31): ReLU(inplace=True)\n",
              "    (32): Conv2d(512, 512, kernel_size=(3, 3), stride=(1, 1), padding=(1, 1))\n",
              "    (33): ReLU(inplace=True)\n",
              "    (34): Conv2d(512, 512, kernel_size=(3, 3), stride=(1, 1), padding=(1, 1))\n",
              "    (35): ReLU(inplace=True)\n",
              "    (36): MaxPool2d(kernel_size=2, stride=2, padding=0, dilation=1, ceil_mode=False)\n",
              "  )\n",
              "  (avgpool): AdaptiveAvgPool2d(output_size=(7, 7))\n",
              "  (classifier): Sequential(\n",
              "    (0): Linear(in_features=25088, out_features=4096, bias=True)\n",
              "    (1): ReLU(inplace=True)\n",
              "    (2): Dropout(p=0.5, inplace=False)\n",
              "    (3): Linear(in_features=4096, out_features=4096, bias=True)\n",
              "    (4): ReLU(inplace=True)\n",
              "    (5): Dropout(p=0.5, inplace=False)\n",
              "    (6): Linear(in_features=4096, out_features=15, bias=True)\n",
              "  )\n",
              ")"
            ]
          },
          "metadata": {},
          "execution_count": 7
        }
      ]
    },
    {
      "cell_type": "code",
      "source": [
        "# Defining loss function and optimizer\n",
        "criterion = torch.nn.CrossEntropyLoss()\n",
        "optimizer = torch.optim.SGD(model.parameters(), lr=0.001, momentum=0.9)"
      ],
      "metadata": {
        "id": "bwbBTnmrUeoK"
      },
      "execution_count": 8,
      "outputs": []
    },
    {
      "cell_type": "code",
      "source": [
        "# Training loop\n",
        "num_epochs = 25\n",
        "for epoch in range(num_epochs):\n",
        "    model.train()\n",
        "    for inputs, labels in train_loader:\n",
        "        inputs, labels = inputs.to(device), labels.to(device)\n",
        "        optimizer.zero_grad()\n",
        "        outputs = model(inputs)\n",
        "        loss = criterion(outputs, labels)\n",
        "        loss.backward()\n",
        "        optimizer.step()\n",
        "    print(f'Epoch {epoch+1}/{num_epochs}, Loss: {loss.item()}')"
      ],
      "metadata": {
        "colab": {
          "base_uri": "https://localhost:8080/"
        },
        "id": "Yiu1MWqSUers",
        "outputId": "76672782-acd9-4b0a-82ab-4a6981fcd7e3"
      },
      "execution_count": 17,
      "outputs": [
        {
          "output_type": "stream",
          "name": "stdout",
          "text": [
            "Epoch 1/25, Loss: 0.00029038841603323817\n",
            "Epoch 2/25, Loss: 0.003390142461284995\n",
            "Epoch 3/25, Loss: 0.001954454928636551\n",
            "Epoch 4/25, Loss: 0.0009592715068720281\n",
            "Epoch 5/25, Loss: 0.0007679020636714995\n",
            "Epoch 6/25, Loss: 2.6104991775355302e-05\n",
            "Epoch 7/25, Loss: 0.0002920116239693016\n",
            "Epoch 8/25, Loss: 7.186943548731506e-06\n",
            "Epoch 9/25, Loss: 0.00355253997258842\n",
            "Epoch 10/25, Loss: 0.00022705852461513132\n",
            "Epoch 11/25, Loss: 4.281125438865274e-05\n",
            "Epoch 12/25, Loss: 6.314789061434567e-05\n",
            "Epoch 13/25, Loss: 0.0011150952195748687\n",
            "Epoch 14/25, Loss: 2.4520792067050934e-05\n",
            "Epoch 15/25, Loss: 1.689718737907242e-05\n",
            "Epoch 16/25, Loss: 0.0006182850920595229\n",
            "Epoch 17/25, Loss: 0.0030808441806584597\n",
            "Epoch 18/25, Loss: 0.00032424964592792094\n",
            "Epoch 19/25, Loss: 0.007072964683175087\n",
            "Epoch 20/25, Loss: 0.00010252150968881324\n",
            "Epoch 21/25, Loss: 6.611769640585408e-05\n",
            "Epoch 22/25, Loss: 5.265396976028569e-05\n",
            "Epoch 23/25, Loss: 3.058983929804526e-05\n",
            "Epoch 24/25, Loss: 6.584721995750442e-05\n",
            "Epoch 25/25, Loss: 7.923463272163644e-05\n"
          ]
        }
      ]
    },
    {
      "cell_type": "code",
      "source": [
        "# Evaluation\n",
        "model.eval()\n",
        "all_labels = []\n",
        "all_preds = []\n",
        "with torch.no_grad():\n",
        "    for inputs, labels in test_loader:\n",
        "        inputs, labels = inputs.to(device), labels.to(device)\n",
        "        outputs = model(inputs)\n",
        "        _, preds = torch.max(outputs, 1)\n",
        "        all_labels.extend(labels.cpu().numpy())\n",
        "        all_preds.extend(preds.cpu().numpy())"
      ],
      "metadata": {
        "id": "TPoJ8puRUeu7"
      },
      "execution_count": 18,
      "outputs": []
    },
    {
      "cell_type": "code",
      "source": [
        "precision = precision_score(all_labels, all_preds, average=None)\n",
        "recall = recall_score(all_labels, all_preds, average=None)"
      ],
      "metadata": {
        "id": "fFsY7Bt_UE94"
      },
      "execution_count": 19,
      "outputs": []
    },
    {
      "cell_type": "code",
      "source": [
        "# Get class names\n",
        "class_names = train_dataset.classes"
      ],
      "metadata": {
        "id": "5ZC8DQitWAJT"
      },
      "execution_count": 20,
      "outputs": []
    },
    {
      "cell_type": "code",
      "source": [
        "# Printing precision and recall for each class\n",
        "print(\"Per-class Precision and Recall:\")\n",
        "for i, class_name in enumerate(class_names):\n",
        "    print(f\"{class_name}: Precision - {precision[i]:.4f}, Recall - {recall[i]:.4f}\")"
      ],
      "metadata": {
        "colab": {
          "base_uri": "https://localhost:8080/"
        },
        "id": "pbvPKIDeUzdF",
        "outputId": "333e9ff6-934f-49a7-a15d-917bdffe8277"
      },
      "execution_count": 21,
      "outputs": [
        {
          "output_type": "stream",
          "name": "stdout",
          "text": [
            "Per-class Precision and Recall:\n",
            "accordion: Precision - 1.0000, Recall - 1.0000\n",
            "bass: Precision - 1.0000, Recall - 1.0000\n",
            "camera: Precision - 1.0000, Recall - 1.0000\n",
            "crocodile: Precision - 0.7778, Recall - 0.7000\n",
            "crocodile_head: Precision - 0.7500, Recall - 0.8182\n",
            "cup: Precision - 1.0000, Recall - 0.9412\n",
            "dollar_bill: Precision - 0.9231, Recall - 1.0000\n",
            "emu: Precision - 1.0000, Recall - 1.0000\n",
            "gramophone: Precision - 1.0000, Recall - 1.0000\n",
            "hedgehog: Precision - 1.0000, Recall - 0.9286\n",
            "nautilus: Precision - 0.9375, Recall - 1.0000\n",
            "pizza: Precision - 1.0000, Recall - 1.0000\n",
            "pyramid: Precision - 1.0000, Recall - 1.0000\n",
            "sea_horse: Precision - 1.0000, Recall - 1.0000\n",
            "windsor_chair: Precision - 1.0000, Recall - 1.0000\n"
          ]
        }
      ]
    }
  ]
}